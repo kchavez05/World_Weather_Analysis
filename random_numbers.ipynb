{
 "cells": [
  {
   "cell_type": "code",
   "execution_count": 1,
   "id": "8a9520d5",
   "metadata": {},
   "outputs": [],
   "source": [
    "# Import the random module\n",
    "import random"
   ]
  },
  {
   "cell_type": "code",
   "execution_count": 3,
   "id": "8c2e3cc2",
   "metadata": {},
   "outputs": [
    {
     "data": {
      "text/plain": [
       "0.7657082277797672"
      ]
     },
     "execution_count": 3,
     "metadata": {},
     "output_type": "execute_result"
    }
   ],
   "source": [
    "random.random()"
   ]
  },
  {
   "cell_type": "code",
   "execution_count": 4,
   "id": "acfcabc6",
   "metadata": {},
   "outputs": [
    {
     "data": {
      "text/plain": [
       "2"
      ]
     },
     "execution_count": 4,
     "metadata": {},
     "output_type": "execute_result"
    }
   ],
   "source": [
    "random.randint(-10,10)"
   ]
  },
  {
   "cell_type": "code",
   "execution_count": 9,
   "id": "8015c854",
   "metadata": {},
   "outputs": [
    {
     "data": {
      "text/plain": [
       "1"
      ]
     },
     "execution_count": 9,
     "metadata": {},
     "output_type": "execute_result"
    }
   ],
   "source": [
    "random.randrange(-9,9,2)"
   ]
  },
  {
   "cell_type": "code",
   "execution_count": 13,
   "id": "9c76fcb1",
   "metadata": {},
   "outputs": [
    {
     "data": {
      "text/plain": [
       "3.554665023420423"
      ]
     },
     "execution_count": 13,
     "metadata": {},
     "output_type": "execute_result"
    }
   ],
   "source": [
    "random.uniform(-10,10)"
   ]
  },
  {
   "cell_type": "code",
   "execution_count": 18,
   "id": "382363e9",
   "metadata": {},
   "outputs": [],
   "source": [
    "x=1\n",
    "latitudes=[]\n",
    "while x < 11:\n",
    "    random_lat = random.randint(-90,89) + random.random()\n",
    "    latitudes.append(random_lat)\n",
    "    x += 1"
   ]
  },
  {
   "cell_type": "code",
   "execution_count": 19,
   "id": "5804f1cc",
   "metadata": {},
   "outputs": [
    {
     "data": {
      "text/plain": [
       "[-80.56633416534639,\n",
       " 42.18584325553485,\n",
       " 4.831253453184175,\n",
       " -21.558942589608193,\n",
       " -53.90741401984085,\n",
       " 30.603342127898298,\n",
       " -84.05334015618301,\n",
       " -29.14213786846619,\n",
       " -21.192821452929323,\n",
       " -44.564293248323125]"
      ]
     },
     "execution_count": 19,
     "metadata": {},
     "output_type": "execute_result"
    }
   ],
   "source": [
    "latitudes"
   ]
  },
  {
   "cell_type": "code",
   "execution_count": 21,
   "id": "47173f92",
   "metadata": {},
   "outputs": [
    {
     "data": {
      "text/plain": [
       "-82"
      ]
     },
     "execution_count": 21,
     "metadata": {},
     "output_type": "execute_result"
    }
   ],
   "source": [
    "random.randrange(-90,90,step=1)"
   ]
  },
  {
   "cell_type": "code",
   "execution_count": 22,
   "id": "c72b5a6f",
   "metadata": {},
   "outputs": [
    {
     "data": {
      "text/plain": [
       "36"
      ]
     },
     "execution_count": 22,
     "metadata": {},
     "output_type": "execute_result"
    }
   ],
   "source": [
    "random.randrange(-90,90,step=3)"
   ]
  },
  {
   "cell_type": "code",
   "execution_count": 24,
   "id": "697ddcbb",
   "metadata": {},
   "outputs": [
    {
     "data": {
      "text/plain": [
       "-83.90073433145858"
      ]
     },
     "execution_count": 24,
     "metadata": {},
     "output_type": "execute_result"
    }
   ],
   "source": [
    "random.uniform(-90,90)"
   ]
  },
  {
   "cell_type": "code",
   "execution_count": 25,
   "id": "8cbf85b2",
   "metadata": {},
   "outputs": [],
   "source": [
    "# Import the NumPy module\n",
    "import numpy as np"
   ]
  },
  {
   "cell_type": "code",
   "execution_count": 26,
   "id": "4e074a1e",
   "metadata": {},
   "outputs": [
    {
     "data": {
      "text/plain": [
       "-0.13730434169553973"
      ]
     },
     "execution_count": 26,
     "metadata": {},
     "output_type": "execute_result"
    }
   ],
   "source": [
    "np.random.uniform(-90.000,90.000)"
   ]
  },
  {
   "cell_type": "code",
   "execution_count": 27,
   "id": "7a15f02c",
   "metadata": {},
   "outputs": [
    {
     "data": {
      "text/plain": [
       "array([-77.30780469,  79.7560831 ,  81.54558338,  11.87614545,\n",
       "        60.30084814,  76.93472953, -30.47574576,  19.86701833,\n",
       "        71.94311985,  48.13539056,  17.73168302,  37.81513665,\n",
       "         7.27326453, -74.74714625, -50.56328751, -50.67098053,\n",
       "       -52.70314075,  42.79557022,  80.78953501,  -7.31192053,\n",
       "        11.05912503, -83.87714914, -12.41528658,  81.82385522,\n",
       "       -79.56465038,   4.06782565,  24.5683838 ,   9.63101344,\n",
       "       -35.38057018, -18.2618253 , -22.19278874, -74.79351012,\n",
       "       -19.05728283,   1.73683471,  46.47331027,  44.88907742,\n",
       "       -42.27542541,  34.72883321, -49.65325198,  23.51434439,\n",
       "        35.16124945, -32.61498262, -72.7887639 , -73.84600953,\n",
       "        71.49585439,   8.95086695,  14.37394704,  15.21537392,\n",
       "       -64.69845923,  44.08245494])"
      ]
     },
     "execution_count": 27,
     "metadata": {},
     "output_type": "execute_result"
    }
   ],
   "source": [
    "np.random.uniform(-90,90,size=50)"
   ]
  },
  {
   "cell_type": "code",
   "execution_count": 28,
   "id": "7bbf0ed2",
   "metadata": {},
   "outputs": [],
   "source": [
    "import timeit"
   ]
  },
  {
   "cell_type": "code",
   "execution_count": 31,
   "id": "351196be",
   "metadata": {},
   "outputs": [
    {
     "name": "stdout",
     "output_type": "stream",
     "text": [
      "12.9 µs ± 594 ns per loop (mean ± std. dev. of 7 runs, 100000 loops each)\n"
     ]
    }
   ],
   "source": [
    "%timeit np.random.uniform(-90,90,size=1500)"
   ]
  },
  {
   "cell_type": "code",
   "execution_count": 32,
   "id": "21ab12e1",
   "metadata": {},
   "outputs": [
    {
     "name": "stdout",
     "output_type": "stream",
     "text": [
      "1.53 ms ± 12.2 µs per loop (mean ± std. dev. of 7 runs, 1000 loops each)\n"
     ]
    }
   ],
   "source": [
    "def latitudes(size):\n",
    "    latitudes = []\n",
    "    x = 0\n",
    "    while x < (size):\n",
    "        random_lat = random.randint(-90,90) + random.random()\n",
    "        latitudes.append(random_lat)\n",
    "        x += 1\n",
    "    return latitudes\n",
    "\n",
    "# Call the function with 1500\n",
    "%timeit latitudes(1500)\n",
    "                        "
   ]
  },
  {
   "cell_type": "code",
   "execution_count": 36,
   "id": "033dd67c",
   "metadata": {},
   "outputs": [
    {
     "name": "stdout",
     "output_type": "stream",
     "text": [
      "105 ns ± 1.2 ns per loop (mean ± std. dev. of 7 runs, 10000000 loops each)\n"
     ]
    }
   ],
   "source": [
    "def latitudes(size):\n",
    "    latitudes = []\n",
    "    x = 0\n",
    "    for size in latitudes:\n",
    "        random_lat = random.randint(-90,90) + random.random()\n",
    "        latitudes.append(random_lat)\n",
    "        x += 1\n",
    "    return latitudes\n",
    "\n",
    "# Call the function with 1500\n",
    "%timeit latitudes(1500)"
   ]
  },
  {
   "cell_type": "code",
   "execution_count": 39,
   "id": "050c4f39",
   "metadata": {},
   "outputs": [],
   "source": [
    "# Import the dependencies.\n",
    "import pandas as pd\n",
    "import matplotlib.pyplot as plt\n",
    "import numpy as np"
   ]
  },
  {
   "cell_type": "code",
   "execution_count": 40,
   "id": "11369a0e",
   "metadata": {},
   "outputs": [
    {
     "data": {
      "text/plain": [
       "<zip at 0x24e7f237748>"
      ]
     },
     "execution_count": 40,
     "metadata": {},
     "output_type": "execute_result"
    }
   ],
   "source": [
    "# Create a set of random latitude and longitude combinations.\n",
    "lats = np.random.uniform(low=-90.000, high=90.000, size=1500)\n",
    "lngs = np.random.uniform(low=-180.000, high=180.000, size=1500)\n",
    "lat_lngs = zip(lats, lngs)\n",
    "lat_lngs"
   ]
  },
  {
   "cell_type": "code",
   "execution_count": null,
   "id": "38dbc98e",
   "metadata": {},
   "outputs": [],
   "source": []
  }
 ],
 "metadata": {
  "kernelspec": {
   "display_name": "PythonData",
   "language": "python",
   "name": "pythondata"
  },
  "language_info": {
   "codemirror_mode": {
    "name": "ipython",
    "version": 3
   },
   "file_extension": ".py",
   "mimetype": "text/x-python",
   "name": "python",
   "nbconvert_exporter": "python",
   "pygments_lexer": "ipython3",
   "version": "3.7.11"
  }
 },
 "nbformat": 4,
 "nbformat_minor": 5
}
